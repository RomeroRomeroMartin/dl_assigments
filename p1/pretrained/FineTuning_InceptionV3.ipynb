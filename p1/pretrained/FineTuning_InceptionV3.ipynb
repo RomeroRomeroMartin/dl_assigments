{
 "cells": [
  {
   "cell_type": "markdown",
   "id": "f7cec71b-084c-43ac-8b40-dd111d7176cf",
   "metadata": {},
   "source": [
    "## Training with Pre-trained models\n",
    "Authors:\n",
    "- Mario Izquierdo\n",
    "- Martín Romero"
   ]
  },
  {
   "cell_type": "markdown",
   "id": "234a4bb6-8d37-40f6-9a69-8ae68ab84641",
   "metadata": {},
   "source": [
    "In this notebook we are going to experiment with pre-trained models to solve the proposed image classification problem. Specifically in this notebook we are going to experiment with the InceptionV3 pretrained network. The way the model will be trained will be using fine-tuning, that consists of unfreezing a few of the top layers of a frozen model base used for feature extraction."
   ]
  },
  {
   "cell_type": "code",
   "execution_count": 1,
   "id": "a8452526-528c-4d4c-b352-7301d0c42493",
   "metadata": {},
   "outputs": [
    {
     "name": "stderr",
     "output_type": "stream",
     "text": [
      "2024-03-05 20:38:03.341583: I tensorflow/core/util/port.cc:113] oneDNN custom operations are on. You may see slightly different numerical results due to floating-point round-off errors from different computation orders. To turn them off, set the environment variable `TF_ENABLE_ONEDNN_OPTS=0`.\n",
      "2024-03-05 20:38:03.405777: E external/local_xla/xla/stream_executor/cuda/cuda_dnn.cc:9261] Unable to register cuDNN factory: Attempting to register factory for plugin cuDNN when one has already been registered\n",
      "2024-03-05 20:38:03.405818: E external/local_xla/xla/stream_executor/cuda/cuda_fft.cc:607] Unable to register cuFFT factory: Attempting to register factory for plugin cuFFT when one has already been registered\n",
      "2024-03-05 20:38:03.407042: E external/local_xla/xla/stream_executor/cuda/cuda_blas.cc:1515] Unable to register cuBLAS factory: Attempting to register factory for plugin cuBLAS when one has already been registered\n",
      "2024-03-05 20:38:03.428275: I tensorflow/core/platform/cpu_feature_guard.cc:182] This TensorFlow binary is optimized to use available CPU instructions in performance-critical operations.\n",
      "To enable the following instructions: AVX2 AVX512F AVX512_VNNI FMA, in other operations, rebuild TensorFlow with the appropriate compiler flags.\n",
      "2024-03-05 20:38:04.879546: W tensorflow/compiler/tf2tensorrt/utils/py_utils.cc:38] TF-TRT Warning: Could not find TensorRT\n"
     ]
    }
   ],
   "source": [
    "import keras\n",
    "from keras import layers\n",
    "from tensorflow.keras.utils import image_dataset_from_directory\n",
    "import numpy as np\n",
    "import matplotlib.pyplot as plt\n",
    "import csv\n",
    "import tensorflow as tf\n",
    "import matplotlib.pyplot as plt"
   ]
  },
  {
   "cell_type": "code",
   "execution_count": 2,
   "id": "b7cca307-f055-4f38-ba29-9fd64f45a1d7",
   "metadata": {},
   "outputs": [
    {
     "name": "stderr",
     "output_type": "stream",
     "text": [
      "2024-03-05 20:38:06.847438: I external/local_xla/xla/stream_executor/cuda/cuda_executor.cc:901] successful NUMA node read from SysFS had negative value (-1), but there must be at least one NUMA node, so returning NUMA node zero. See more at https://github.com/torvalds/linux/blob/v6.0/Documentation/ABI/testing/sysfs-bus-pci#L344-L355\n",
      "2024-03-05 20:38:06.891223: I external/local_xla/xla/stream_executor/cuda/cuda_executor.cc:901] successful NUMA node read from SysFS had negative value (-1), but there must be at least one NUMA node, so returning NUMA node zero. See more at https://github.com/torvalds/linux/blob/v6.0/Documentation/ABI/testing/sysfs-bus-pci#L344-L355\n",
      "2024-03-05 20:38:06.891607: I external/local_xla/xla/stream_executor/cuda/cuda_executor.cc:901] successful NUMA node read from SysFS had negative value (-1), but there must be at least one NUMA node, so returning NUMA node zero. See more at https://github.com/torvalds/linux/blob/v6.0/Documentation/ABI/testing/sysfs-bus-pci#L344-L355\n"
     ]
    }
   ],
   "source": [
    "tf.config.set_visible_devices([], 'GPU')"
   ]
  },
  {
   "cell_type": "markdown",
   "id": "de3064f1-e318-4250-b079-a6e7096e171b",
   "metadata": {},
   "source": [
    "### Load dataset"
   ]
  },
  {
   "cell_type": "markdown",
   "id": "e59937d6-7e52-43ef-9f64-35cba1974d81",
   "metadata": {},
   "source": [
    "We load the images from our dataset to create the train, validation and test sets. In this case we have used an image size of (180,180) due to the limited computational capacity of our computer."
   ]
  },
  {
   "cell_type": "code",
   "execution_count": 3,
   "id": "9583887b-d039-4ae4-a7ca-f0d15fecbbce",
   "metadata": {},
   "outputs": [
    {
     "name": "stdout",
     "output_type": "stream",
     "text": [
      "Found 10778 files belonging to 5 classes.\n",
      "Found 1497 files belonging to 5 classes.\n",
      "Found 2696 files belonging to 5 classes.\n"
     ]
    }
   ],
   "source": [
    "img_size = 180\n",
    "image_size = (img_size, img_size)\n",
    "img_tensor_shape = (img_size, img_size, 3)\n",
    "batch_size = 32\n",
    "train_dataset = image_dataset_from_directory(\n",
    "    '../data/new_data/train',\n",
    "    image_size = image_size,\n",
    "    batch_size = batch_size)\n",
    "test_dataset = image_dataset_from_directory(\n",
    "    '../data/new_data/test',\n",
    "    image_size = image_size,\n",
    "    batch_size=batch_size)\n",
    "val_dataset = image_dataset_from_directory(\n",
    "    '../data/new_data/validation',\n",
    "    image_size = image_size,\n",
    "    batch_size=batch_size)"
   ]
  },
  {
   "cell_type": "markdown",
   "id": "e68a1e96-e3e7-4f8b-86c4-2e29d50ab63f",
   "metadata": {},
   "source": [
    "## Using InceptionV3 model"
   ]
  },
  {
   "cell_type": "code",
   "execution_count": 4,
   "id": "03420da8-6122-4f22-8714-d0f8934ef9a6",
   "metadata": {},
   "outputs": [],
   "source": [
    "conv_base = keras.applications.InceptionV3(\n",
    "    weights=\"imagenet\",\n",
    "    include_top=False,\n",
    "    input_shape=(180, 180, 3))"
   ]
  },
  {
   "cell_type": "markdown",
   "id": "81523e5f-4fe4-42a2-83e9-ba8134972f9f",
   "metadata": {},
   "source": [
    "### Unfreezing a few top layers"
   ]
  },
  {
   "cell_type": "code",
   "execution_count": 5,
   "id": "7f10541e-4c8d-411d-8881-aad901928249",
   "metadata": {},
   "outputs": [],
   "source": [
    "conv_base.trainable = True\n",
    "for layer in conv_base.layers[:-4]:\n",
    "    layer.trainable = False"
   ]
  },
  {
   "cell_type": "markdown",
   "id": "395ed5b6-cead-4f83-84ff-d7787f3df55e",
   "metadata": {},
   "source": [
    "### Creating the model\n",
    "We added to the pretrained model, a final layer with Dropout, to adapt the network to our problem"
   ]
  },
  {
   "cell_type": "code",
   "execution_count": 6,
   "id": "3b90f6c6-babc-4a5f-ba39-a7d6dd849985",
   "metadata": {},
   "outputs": [],
   "source": [
    "inputs = keras.Input(shape=(180, 180, 3))\n",
    "x = keras.applications.inception_v3.preprocess_input(inputs) \n",
    "x = conv_base(x)\n",
    "x = layers.Flatten()(x)\n",
    "x = layers.Dense(256)(x)\n",
    "x = layers.Dropout(0.5)(x)\n",
    "outputs = layers.Dense(5, activation=\"softmax\")(x)\n",
    "model = keras.Model(inputs, outputs)"
   ]
  },
  {
   "cell_type": "markdown",
   "id": "540859cc-a8a4-48ff-8193-06465a331aa0",
   "metadata": {},
   "source": [
    "#### Fitting the model"
   ]
  },
  {
   "cell_type": "code",
   "execution_count": 7,
   "id": "bd9148eb-f7d9-48e5-a2a6-bc099d1774d7",
   "metadata": {},
   "outputs": [
    {
     "name": "stdout",
     "output_type": "stream",
     "text": [
      "Epoch 1/20\n"
     ]
    },
    {
     "name": "stderr",
     "output_type": "stream",
     "text": [
      "2024-03-05 20:38:21.504089: I external/local_xla/xla/service/service.cc:168] XLA service 0x7f4248002750 initialized for platform Host (this does not guarantee that XLA will be used). Devices:\n",
      "2024-03-05 20:38:21.504135: I external/local_xla/xla/service/service.cc:176]   StreamExecutor device (0): Host, Default Version\n",
      "2024-03-05 20:38:21.953963: I tensorflow/compiler/mlir/tensorflow/utils/dump_mlir_util.cc:269] disabling MLIR crash reproducer, set env var `MLIR_CRASH_REPRODUCER_DIRECTORY` to enable.\n",
      "WARNING: All log messages before absl::InitializeLog() is called are written to STDERR\n",
      "I0000 00:00:1709667508.256306    5111 device_compiler.h:186] Compiled cluster using XLA!  This line is logged at most once for the lifetime of the process.\n",
      "2024-03-05 20:38:28.270964: E external/local_xla/xla/stream_executor/stream_executor_internal.h:177] SetPriority unimplemented for this stream.\n"
     ]
    },
    {
     "name": "stdout",
     "output_type": "stream",
     "text": [
      "\u001b[1m337/337\u001b[0m \u001b[32m━━━━━━━━━━━━━━━━━━━━\u001b[0m\u001b[37m\u001b[0m \u001b[1m916s\u001b[0m 3s/step - accuracy: 0.8220 - loss: 0.8241 - val_accuracy: 0.9559 - val_loss: 0.1841\n",
      "Epoch 2/20\n",
      "\u001b[1m337/337\u001b[0m \u001b[32m━━━━━━━━━━━━━━━━━━━━\u001b[0m\u001b[37m\u001b[0m \u001b[1m671s\u001b[0m 2s/step - accuracy: 0.9514 - loss: 0.2101 - val_accuracy: 0.9525 - val_loss: 0.2113\n",
      "Epoch 3/20\n",
      "\u001b[1m337/337\u001b[0m \u001b[32m━━━━━━━━━━━━━━━━━━━━\u001b[0m\u001b[37m\u001b[0m \u001b[1m593s\u001b[0m 2s/step - accuracy: 0.9644 - loss: 0.1410 - val_accuracy: 0.9618 - val_loss: 0.1785\n",
      "Epoch 4/20\n",
      "\u001b[1m337/337\u001b[0m \u001b[32m━━━━━━━━━━━━━━━━━━━━\u001b[0m\u001b[37m\u001b[0m \u001b[1m539s\u001b[0m 2s/step - accuracy: 0.9713 - loss: 0.1145 - val_accuracy: 0.9644 - val_loss: 0.1900\n",
      "Epoch 5/20\n",
      "\u001b[1m337/337\u001b[0m \u001b[32m━━━━━━━━━━━━━━━━━━━━\u001b[0m\u001b[37m\u001b[0m \u001b[1m539s\u001b[0m 2s/step - accuracy: 0.9775 - loss: 0.0792 - val_accuracy: 0.9640 - val_loss: 0.1803\n",
      "Epoch 6/20\n",
      "\u001b[1m337/337\u001b[0m \u001b[32m━━━━━━━━━━━━━━━━━━━━\u001b[0m\u001b[37m\u001b[0m \u001b[1m560s\u001b[0m 2s/step - accuracy: 0.9820 - loss: 0.0659 - val_accuracy: 0.9555 - val_loss: 0.2366\n",
      "Epoch 7/20\n",
      "\u001b[1m337/337\u001b[0m \u001b[32m━━━━━━━━━━━━━━━━━━━━\u001b[0m\u001b[37m\u001b[0m \u001b[1m538s\u001b[0m 2s/step - accuracy: 0.9827 - loss: 0.0544 - val_accuracy: 0.9681 - val_loss: 0.1809\n",
      "Epoch 8/20\n",
      "\u001b[1m337/337\u001b[0m \u001b[32m━━━━━━━━━━━━━━━━━━━━\u001b[0m\u001b[37m\u001b[0m \u001b[1m538s\u001b[0m 2s/step - accuracy: 0.9891 - loss: 0.0361 - val_accuracy: 0.9681 - val_loss: 0.1775\n",
      "Epoch 9/20\n",
      "\u001b[1m337/337\u001b[0m \u001b[32m━━━━━━━━━━━━━━━━━━━━\u001b[0m\u001b[37m\u001b[0m \u001b[1m524s\u001b[0m 2s/step - accuracy: 0.9898 - loss: 0.0363 - val_accuracy: 0.9659 - val_loss: 0.1731\n",
      "Epoch 10/20\n",
      "\u001b[1m337/337\u001b[0m \u001b[32m━━━━━━━━━━━━━━━━━━━━\u001b[0m\u001b[37m\u001b[0m \u001b[1m574s\u001b[0m 2s/step - accuracy: 0.9911 - loss: 0.0307 - val_accuracy: 0.9588 - val_loss: 0.2347\n",
      "Epoch 11/20\n",
      "\u001b[1m337/337\u001b[0m \u001b[32m━━━━━━━━━━━━━━━━━━━━\u001b[0m\u001b[37m\u001b[0m \u001b[1m500s\u001b[0m 1s/step - accuracy: 0.9941 - loss: 0.0196 - val_accuracy: 0.9670 - val_loss: 0.2029\n",
      "Epoch 12/20\n",
      "\u001b[1m337/337\u001b[0m \u001b[32m━━━━━━━━━━━━━━━━━━━━\u001b[0m\u001b[37m\u001b[0m \u001b[1m535s\u001b[0m 2s/step - accuracy: 0.9927 - loss: 0.0210 - val_accuracy: 0.9666 - val_loss: 0.2075\n",
      "Epoch 13/20\n",
      "\u001b[1m337/337\u001b[0m \u001b[32m━━━━━━━━━━━━━━━━━━━━\u001b[0m\u001b[37m\u001b[0m \u001b[1m535s\u001b[0m 2s/step - accuracy: 0.9938 - loss: 0.0208 - val_accuracy: 0.9633 - val_loss: 0.2220\n",
      "Epoch 14/20\n",
      "\u001b[1m337/337\u001b[0m \u001b[32m━━━━━━━━━━━━━━━━━━━━\u001b[0m\u001b[37m\u001b[0m \u001b[1m534s\u001b[0m 2s/step - accuracy: 0.9957 - loss: 0.0130 - val_accuracy: 0.9659 - val_loss: 0.2054\n",
      "Epoch 15/20\n",
      "\u001b[1m337/337\u001b[0m \u001b[32m━━━━━━━━━━━━━━━━━━━━\u001b[0m\u001b[37m\u001b[0m \u001b[1m534s\u001b[0m 2s/step - accuracy: 0.9965 - loss: 0.0109 - val_accuracy: 0.9662 - val_loss: 0.2134\n",
      "Epoch 16/20\n",
      "\u001b[1m337/337\u001b[0m \u001b[32m━━━━━━━━━━━━━━━━━━━━\u001b[0m\u001b[37m\u001b[0m \u001b[1m532s\u001b[0m 2s/step - accuracy: 0.9971 - loss: 0.0090 - val_accuracy: 0.9666 - val_loss: 0.2237\n",
      "Epoch 17/20\n",
      "\u001b[1m337/337\u001b[0m \u001b[32m━━━━━━━━━━━━━━━━━━━━\u001b[0m\u001b[37m\u001b[0m \u001b[1m522s\u001b[0m 1s/step - accuracy: 0.9971 - loss: 0.0080 - val_accuracy: 0.9674 - val_loss: 0.2111\n",
      "Epoch 18/20\n",
      "\u001b[1m337/337\u001b[0m \u001b[32m━━━━━━━━━━━━━━━━━━━━\u001b[0m\u001b[37m\u001b[0m \u001b[1m531s\u001b[0m 2s/step - accuracy: 0.9974 - loss: 0.0071 - val_accuracy: 0.9659 - val_loss: 0.2306\n",
      "Epoch 19/20\n",
      "\u001b[1m337/337\u001b[0m \u001b[32m━━━━━━━━━━━━━━━━━━━━\u001b[0m\u001b[37m\u001b[0m \u001b[1m530s\u001b[0m 2s/step - accuracy: 0.9971 - loss: 0.0067 - val_accuracy: 0.9677 - val_loss: 0.2257\n",
      "Epoch 20/20\n",
      "\u001b[1m337/337\u001b[0m \u001b[32m━━━━━━━━━━━━━━━━━━━━\u001b[0m\u001b[37m\u001b[0m \u001b[1m531s\u001b[0m 2s/step - accuracy: 0.9991 - loss: 0.0026 - val_accuracy: 0.9599 - val_loss: 0.2820\n"
     ]
    }
   ],
   "source": [
    "# Fine-tuning the model\n",
    "model.compile(loss=\"sparse_categorical_crossentropy\",\n",
    "              optimizer=keras.optimizers.RMSprop(learning_rate=1e-5),\n",
    "              metrics=[\"accuracy\"])\n",
    "  \n",
    "callbacks = [\n",
    "    keras.callbacks.ModelCheckpoint(\n",
    "        filepath=\"models/fine_tuning_InceptionV3.keras\",\n",
    "        save_best_only=True,\n",
    "        monitor=\"val_loss\")\n",
    "]\n",
    "history = model.fit(\n",
    "    train_dataset,\n",
    "    epochs=20, \n",
    "    validation_data=val_dataset,\n",
    "    callbacks=callbacks)"
   ]
  },
  {
   "cell_type": "code",
   "execution_count": 8,
   "id": "6a77e119-2638-4996-8f04-6a911aa7ddaf",
   "metadata": {},
   "outputs": [
    {
     "name": "stdout",
     "output_type": "stream",
     "text": [
      "\u001b[1m47/47\u001b[0m \u001b[32m━━━━━━━━━━━━━━━━━━━━\u001b[0m\u001b[37m\u001b[0m \u001b[1m61s\u001b[0m 1s/step - accuracy: 0.9542 - loss: 0.3598\n",
      "Accuracy:  0.9645958542823792\n"
     ]
    }
   ],
   "source": [
    "test_loss, test_acc = model.evaluate(test_dataset)\n",
    "print('Accuracy: ', test_acc)"
   ]
  },
  {
   "cell_type": "markdown",
   "id": "827cfdef-27e9-4042-ad66-f02318916f70",
   "metadata": {},
   "source": [
    "## Plotting results\n",
    "We plot the evolution of the accuracy (in training and validation) and the evolution of the loss (in training and validation)"
   ]
  },
  {
   "cell_type": "code",
   "execution_count": 9,
   "id": "1a5173d6-6bef-47d2-93ab-9241d66a7a4d",
   "metadata": {},
   "outputs": [],
   "source": [
    "#Function to plot the results\n",
    "def plot(history):\n",
    "    accuracy = history.history[\"accuracy\"]\n",
    "    val_accuracy = history.history[\"val_accuracy\"]\n",
    "    loss = history.history[\"loss\"]\n",
    "    val_loss = history.history[\"val_loss\"]\n",
    "\n",
    "    epochs = range(1, len(accuracy) + 1)\n",
    "\n",
    "    plt.plot(epochs, accuracy, \"b-o\", label=\"Training accuracy\")\n",
    "    plt.plot(epochs, val_accuracy, \"r-o\", label=\"Validation accuracy\")\n",
    "    plt.title(\"Training and validation accuracy\")\n",
    "    plt.legend()\n",
    "    plt.figure()\n",
    "\n",
    "    plt.plot(epochs, loss, \"b-o\", label=\"Training loss\")\n",
    "    plt.plot(epochs, val_loss, \"r-o\", label=\"Validation loss\")\n",
    "    plt.title(\"Training and validation loss\")\n",
    "    plt.legend()\n",
    "    plt.show()"
   ]
  },
  {
   "cell_type": "code",
   "execution_count": 10,
   "id": "12c7b101-18eb-4575-be1b-2c895cba436c",
   "metadata": {},
   "outputs": [
    {
     "data": {
      "image/png": "[encoded data removed]",
      "text/plain": [
       "<Figure size 640x480 with 1 Axes>"
      ]
     },
     "metadata": {},
     "output_type": "display_data"
    },
    {
     "data": {
      "image/png": "[encoded data removed]",
      "text/plain": [
       "<Figure size 640x480 with 1 Axes>"
      ]
     },
     "metadata": {},
     "output_type": "display_data"
    }
   ],
   "source": [
    "plot(history)"
   ]
  },
  {
   "cell_type": "markdown",
   "id": "2db12594-e9d2-49f5-a96a-d427d728b2be",
   "metadata": {},
   "source": [
    "After seeing the results of the network, we see that a good result is obtained, exceeding 90% accuracy. We also see that this percentage is reached nearly to the end of the training, so the best option would be repeat the training with more epochs, but due to computation capacity, we don't have time to do that."
   ]
  },
  {
   "cell_type": "markdown",
   "id": "87820c8d-2d84-4e9e-bf25-977c15d25574",
   "metadata": {},
   "source": [
    "### Saving the results in a .csv"
   ]
  },
  {
   "cell_type": "code",
   "execution_count": 11,
   "id": "cfd88a1b-cd6c-434c-951f-da50614ca0b1",
   "metadata": {},
   "outputs": [
    {
     "name": "stdout",
     "output_type": "stream",
     "text": [
      "\u001b[1m85/85\u001b[0m \u001b[32m━━━━━━━━━━━━━━━━━━━━\u001b[0m\u001b[37m\u001b[0m \u001b[1m105s\u001b[0m 1s/step - accuracy: 0.9584 - loss: 0.3011\n"
     ]
    }
   ],
   "source": [
    "val_loss, val_acc = model.evaluate(val_dataset)"
   ]
  },
  {
   "cell_type": "code",
   "execution_count": 12,
   "id": "b1b2605f-7d86-4e15-ad42-db2b3d01c12d",
   "metadata": {},
   "outputs": [],
   "source": [
    "import os\n",
    "\n",
    "def save_model_results(file_path, model_name, accuracy):\n",
    "    \"\"\"\n",
    "    This function saves the model's accuracy to a CSV file. It checks if the file exists\n",
    "    to add a header if necessary and then opens the file in append mode to add\n",
    "    the model name and accuracy.\n",
    "    \"\"\"\n",
    "    # Check if the file exists to decide on adding the header\n",
    "    header_needed = not os.path.isfile(file_path)\n",
    "    # Open the file in append mode, which creates the file if it doesn't exist\n",
    "    with open(file_path, \"a\") as file:\n",
    "        # Add a header if the file was just created\n",
    "        if header_needed:\n",
    "            file.write(\"model_name,accuracy\\n\")\n",
    "        # Append the model name and accuracy to the file\n",
    "        file.write(f\"{model_name},{accuracy:.3f}\\n\")\n",
    "    "
   ]
  },
  {
   "cell_type": "code",
   "execution_count": 13,
   "id": "0edc58bb-8020-45cb-a3f1-a939e102c0d4",
   "metadata": {},
   "outputs": [],
   "source": [
    "save_model_results('val_results.csv', 'preTrained_FineTuning_InceptionV3', val_acc)\n",
    "save_model_results('test_results.csv', 'preTrained_FineTuning_InceptionV3', test_acc)"
   ]
  },
  {
   "cell_type": "code",
   "execution_count": null,
   "id": "a248e1ce-d1de-4918-9218-80d7886a6f87",
   "metadata": {},
   "outputs": [],
   "source": []
  }
 ],
 "metadata": {
  "kernelspec": {
   "display_name": "Python 3 (ipykernel)",
   "language": "python",
   "name": "python3"
  },
  "language_info": {
   "codemirror_mode": {
    "name": "ipython",
    "version": 3
   },
   "file_extension": ".py",
   "mimetype": "text/x-python",
   "name": "python",
   "nbconvert_exporter": "python",
   "pygments_lexer": "ipython3",
   "version": "3.10.12"
  }
 },
 "nbformat": 4,
 "nbformat_minor": 5
}
