{
 "cells": [
  {
   "cell_type": "markdown",
   "id": "f7cec71b-084c-43ac-8b40-dd111d7176cf",
   "metadata": {},
   "source": [
    "## Training with Pre-trained models\n",
    "Authors:\n",
    "- Mario Izquierdo\n",
    "- Martín Romero"
   ]
  },
  {
   "cell_type": "markdown",
   "id": "234a4bb6-8d37-40f6-9a69-8ae68ab84641",
   "metadata": {},
   "source": [
    "In this notebook we are going to experiment with pre-trained models to solve the proposed image classification problem. Specifically in this notebook we are going to experiment with the MobileNet pretrained network. The way the model will be trained will be using fine-tuning, that consists of unfreezing a few of the top layers of a frozen model base used for feature extraction."
   ]
  },
  {
   "cell_type": "code",
   "execution_count": 1,
   "id": "a8452526-528c-4d4c-b352-7301d0c42493",
   "metadata": {},
   "outputs": [
    {
     "name": "stderr",
     "output_type": "stream",
     "text": [
      "2024-03-05 19:41:38.922592: I tensorflow/core/util/port.cc:113] oneDNN custom operations are on. You may see slightly different numerical results due to floating-point round-off errors from different computation orders. To turn them off, set the environment variable `TF_ENABLE_ONEDNN_OPTS=0`.\n",
      "2024-03-05 19:41:38.949416: E external/local_xla/xla/stream_executor/cuda/cuda_dnn.cc:9261] Unable to register cuDNN factory: Attempting to register factory for plugin cuDNN when one has already been registered\n",
      "2024-03-05 19:41:38.949439: E external/local_xla/xla/stream_executor/cuda/cuda_fft.cc:607] Unable to register cuFFT factory: Attempting to register factory for plugin cuFFT when one has already been registered\n",
      "2024-03-05 19:41:38.950095: E external/local_xla/xla/stream_executor/cuda/cuda_blas.cc:1515] Unable to register cuBLAS factory: Attempting to register factory for plugin cuBLAS when one has already been registered\n",
      "2024-03-05 19:41:38.954595: I tensorflow/core/platform/cpu_feature_guard.cc:182] This TensorFlow binary is optimized to use available CPU instructions in performance-critical operations.\n",
      "To enable the following instructions: AVX2 AVX512F AVX512_VNNI FMA, in other operations, rebuild TensorFlow with the appropriate compiler flags.\n",
      "2024-03-05 19:41:39.463306: W tensorflow/compiler/tf2tensorrt/utils/py_utils.cc:38] TF-TRT Warning: Could not find TensorRT\n"
     ]
    }
   ],
   "source": [
    "import keras\n",
    "from keras import layers\n",
    "from tensorflow.keras.utils import image_dataset_from_directory\n",
    "import numpy as np\n",
    "import matplotlib.pyplot as plt\n",
    "import csv\n",
    "import tensorflow as tf\n",
    "import matplotlib.pyplot as plt"
   ]
  },
  {
   "cell_type": "markdown",
   "id": "de3064f1-e318-4250-b079-a6e7096e171b",
   "metadata": {},
   "source": [
    "### Load dataset"
   ]
  },
  {
   "cell_type": "markdown",
   "id": "e59937d6-7e52-43ef-9f64-35cba1974d81",
   "metadata": {},
   "source": [
    "We load the images from our dataset to create the train, validation and test sets. In this case we wanted to use an image size of (180,180) due to the limited computational capacity of our computer, but finalley we used (192,192) due to MobileNet requirements (the size must be squared)."
   ]
  },
  {
   "cell_type": "code",
   "execution_count": 2,
   "id": "9583887b-d039-4ae4-a7ca-f0d15fecbbce",
   "metadata": {},
   "outputs": [
    {
     "name": "stdout",
     "output_type": "stream",
     "text": [
      "Found 10778 files belonging to 5 classes.\n"
     ]
    },
    {
     "name": "stderr",
     "output_type": "stream",
     "text": [
      "2024-03-05 19:41:40.502771: I external/local_xla/xla/stream_executor/cuda/cuda_executor.cc:901] successful NUMA node read from SysFS had negative value (-1), but there must be at least one NUMA node, so returning NUMA node zero. See more at https://github.com/torvalds/linux/blob/v6.0/Documentation/ABI/testing/sysfs-bus-pci#L344-L355\n",
      "2024-03-05 19:41:40.524223: I external/local_xla/xla/stream_executor/cuda/cuda_executor.cc:901] successful NUMA node read from SysFS had negative value (-1), but there must be at least one NUMA node, so returning NUMA node zero. See more at https://github.com/torvalds/linux/blob/v6.0/Documentation/ABI/testing/sysfs-bus-pci#L344-L355\n",
      "2024-03-05 19:41:40.524382: I external/local_xla/xla/stream_executor/cuda/cuda_executor.cc:901] successful NUMA node read from SysFS had negative value (-1), but there must be at least one NUMA node, so returning NUMA node zero. See more at https://github.com/torvalds/linux/blob/v6.0/Documentation/ABI/testing/sysfs-bus-pci#L344-L355\n",
      "2024-03-05 19:41:40.525083: I external/local_xla/xla/stream_executor/cuda/cuda_executor.cc:901] successful NUMA node read from SysFS had negative value (-1), but there must be at least one NUMA node, so returning NUMA node zero. See more at https://github.com/torvalds/linux/blob/v6.0/Documentation/ABI/testing/sysfs-bus-pci#L344-L355\n",
      "2024-03-05 19:41:40.525209: I external/local_xla/xla/stream_executor/cuda/cuda_executor.cc:901] successful NUMA node read from SysFS had negative value (-1), but there must be at least one NUMA node, so returning NUMA node zero. See more at https://github.com/torvalds/linux/blob/v6.0/Documentation/ABI/testing/sysfs-bus-pci#L344-L355\n",
      "2024-03-05 19:41:40.525306: I external/local_xla/xla/stream_executor/cuda/cuda_executor.cc:901] successful NUMA node read from SysFS had negative value (-1), but there must be at least one NUMA node, so returning NUMA node zero. See more at https://github.com/torvalds/linux/blob/v6.0/Documentation/ABI/testing/sysfs-bus-pci#L344-L355\n",
      "2024-03-05 19:41:40.592971: I external/local_xla/xla/stream_executor/cuda/cuda_executor.cc:901] successful NUMA node read from SysFS had negative value (-1), but there must be at least one NUMA node, so returning NUMA node zero. See more at https://github.com/torvalds/linux/blob/v6.0/Documentation/ABI/testing/sysfs-bus-pci#L344-L355\n",
      "2024-03-05 19:41:40.593102: I external/local_xla/xla/stream_executor/cuda/cuda_executor.cc:901] successful NUMA node read from SysFS had negative value (-1), but there must be at least one NUMA node, so returning NUMA node zero. See more at https://github.com/torvalds/linux/blob/v6.0/Documentation/ABI/testing/sysfs-bus-pci#L344-L355\n",
      "2024-03-05 19:41:40.593206: I external/local_xla/xla/stream_executor/cuda/cuda_executor.cc:901] successful NUMA node read from SysFS had negative value (-1), but there must be at least one NUMA node, so returning NUMA node zero. See more at https://github.com/torvalds/linux/blob/v6.0/Documentation/ABI/testing/sysfs-bus-pci#L344-L355\n",
      "2024-03-05 19:41:40.593321: I tensorflow/core/common_runtime/gpu/gpu_device.cc:1929] Created device /job:localhost/replica:0/task:0/device:GPU:0 with 587 MB memory:  -> device: 0, name: NVIDIA GeForce GTX 1650 with Max-Q Design, pci bus id: 0000:5a:00.0, compute capability: 7.5\n"
     ]
    },
    {
     "name": "stdout",
     "output_type": "stream",
     "text": [
      "Found 1497 files belonging to 5 classes.\n",
      "Found 2696 files belonging to 5 classes.\n"
     ]
    }
   ],
   "source": [
    "img_size = 192\n",
    "image_size = (img_size, img_size)\n",
    "img_tensor_shape = (img_size, img_size, 3)\n",
    "batch_size = 32\n",
    "train_dataset = image_dataset_from_directory(\n",
    "    '../data/new_data/train',\n",
    "    image_size = image_size,\n",
    "    batch_size = batch_size)\n",
    "test_dataset = image_dataset_from_directory(\n",
    "    '../data/new_data/test',\n",
    "    image_size = image_size,\n",
    "    batch_size=batch_size)\n",
    "val_dataset = image_dataset_from_directory(\n",
    "    '../data/new_data/validation',\n",
    "    image_size = image_size,\n",
    "    batch_size=batch_size)"
   ]
  },
  {
   "cell_type": "markdown",
   "id": "e68a1e96-e3e7-4f8b-86c4-2e29d50ab63f",
   "metadata": {},
   "source": [
    "## Using MobileNet model"
   ]
  },
  {
   "cell_type": "code",
   "execution_count": 3,
   "id": "03420da8-6122-4f22-8714-d0f8934ef9a6",
   "metadata": {},
   "outputs": [],
   "source": [
    "conv_base = keras.applications.MobileNet(\n",
    "    weights=\"imagenet\",\n",
    "    include_top=False,\n",
    "    input_shape=(192, 192, 3))"
   ]
  },
  {
   "cell_type": "markdown",
   "id": "81523e5f-4fe4-42a2-83e9-ba8134972f9f",
   "metadata": {},
   "source": [
    "### Unfreezing a few top layers"
   ]
  },
  {
   "cell_type": "code",
   "execution_count": 4,
   "id": "7f10541e-4c8d-411d-8881-aad901928249",
   "metadata": {},
   "outputs": [],
   "source": [
    "conv_base.trainable = True\n",
    "for layer in conv_base.layers[:-4]:\n",
    "    layer.trainable = False"
   ]
  },
  {
   "cell_type": "markdown",
   "id": "395ed5b6-cead-4f83-84ff-d7787f3df55e",
   "metadata": {},
   "source": [
    "### Creating the model\n",
    "We added to the pretrained model, a final layer with Dropout, to adapt the network to our problem"
   ]
  },
  {
   "cell_type": "code",
   "execution_count": 5,
   "id": "3b90f6c6-babc-4a5f-ba39-a7d6dd849985",
   "metadata": {},
   "outputs": [],
   "source": [
    "inputs = keras.Input(shape=(192, 192, 3))\n",
    "x = keras.applications.mobilenet.preprocess_input(inputs) \n",
    "x = conv_base(x)\n",
    "x = layers.Flatten()(x)\n",
    "x = layers.Dense(256)(x)\n",
    "x = layers.Dropout(0.5)(x)\n",
    "outputs = layers.Dense(5, activation=\"softmax\")(x)\n",
    "model = keras.Model(inputs, outputs)\n",
    "model.compile(loss=\"binary_crossentropy\",\n",
    "              optimizer=\"rmsprop\",\n",
    "              metrics=[\"accuracy\"])"
   ]
  },
  {
   "cell_type": "markdown",
   "id": "80ef29aa-6370-4213-aee2-096704d4e80a",
   "metadata": {},
   "source": [
    "#### Fitting the model"
   ]
  },
  {
   "cell_type": "code",
   "execution_count": 6,
   "id": "bd9148eb-f7d9-48e5-a2a6-bc099d1774d7",
   "metadata": {},
   "outputs": [
    {
     "name": "stdout",
     "output_type": "stream",
     "text": [
      "Epoch 1/30\n"
     ]
    },
    {
     "name": "stderr",
     "output_type": "stream",
     "text": [
      "2024-03-05 19:41:43.178806: I external/local_xla/xla/service/service.cc:168] XLA service 0x55cdfa61d700 initialized for platform CUDA (this does not guarantee that XLA will be used). Devices:\n",
      "2024-03-05 19:41:43.179046: I external/local_xla/xla/service/service.cc:176]   StreamExecutor device (0): NVIDIA GeForce GTX 1650 with Max-Q Design, Compute Capability 7.5\n",
      "2024-03-05 19:41:43.230234: I tensorflow/compiler/mlir/tensorflow/utils/dump_mlir_util.cc:269] disabling MLIR crash reproducer, set env var `MLIR_CRASH_REPRODUCER_DIRECTORY` to enable.\n",
      "2024-03-05 19:41:43.550918: I external/local_xla/xla/stream_executor/cuda/cuda_dnn.cc:454] Loaded cuDNN version 8902\n",
      "2024-03-05 19:41:49.532343: W external/local_tsl/tsl/framework/bfc_allocator.cc:296] Allocator (GPU_0_bfc) ran out of memory trying to allocate 2.27GiB with freed_by_count=0. The caller indicates that this is not a failure, but this may mean that there could be performance gains if more memory were available.\n",
      "2024-03-05 19:41:49.532365: W external/local_tsl/tsl/framework/bfc_allocator.cc:296] Allocator (GPU_0_bfc) ran out of memory trying to allocate 2.27GiB with freed_by_count=0. The caller indicates that this is not a failure, but this may mean that there could be performance gains if more memory were available.\n",
      "2024-03-05 19:41:49.672848: W external/local_tsl/tsl/framework/bfc_allocator.cc:296] Allocator (GPU_0_bfc) ran out of memory trying to allocate 2.27GiB with freed_by_count=0. The caller indicates that this is not a failure, but this may mean that there could be performance gains if more memory were available.\n",
      "2024-03-05 19:41:49.672866: W external/local_tsl/tsl/framework/bfc_allocator.cc:296] Allocator (GPU_0_bfc) ran out of memory trying to allocate 2.27GiB with freed_by_count=0. The caller indicates that this is not a failure, but this may mean that there could be performance gains if more memory were available.\n"
     ]
    },
    {
     "name": "stdout",
     "output_type": "stream",
     "text": [
      "\u001b[1m  4/337\u001b[0m \u001b[37m━━━━━━━━━━━━━━━━━━━━\u001b[0m \u001b[1m17s\u001b[0m 53ms/step - accuracy: 0.2376 - loss: 5.0958"
     ]
    },
    {
     "name": "stderr",
     "output_type": "stream",
     "text": [
      "WARNING: All log messages before absl::InitializeLog() is called are written to STDERR\n",
      "I0000 00:00:1709664111.112186   20887 device_compiler.h:186] Compiled cluster using XLA!  This line is logged at most once for the lifetime of the process.\n",
      "W0000 00:00:1709664111.124059   20887 graph_launch.cc:671] Fallback to op-by-op mode because memset node breaks graph update\n"
     ]
    },
    {
     "name": "stdout",
     "output_type": "stream",
     "text": [
      "\u001b[1m336/337\u001b[0m \u001b[32m━━━━━━━━━━━━━━━━━━━\u001b[0m\u001b[37m━\u001b[0m \u001b[1m0s\u001b[0m 41ms/step - accuracy: 0.7746 - loss: 1.1097"
     ]
    },
    {
     "name": "stderr",
     "output_type": "stream",
     "text": [
      "2024-03-05 19:42:10.587190: W external/local_tsl/tsl/framework/bfc_allocator.cc:296] Allocator (GPU_0_bfc) ran out of memory trying to allocate 2.27GiB with freed_by_count=0. The caller indicates that this is not a failure, but this may mean that there could be performance gains if more memory were available.\n",
      "2024-03-05 19:42:10.587216: W external/local_tsl/tsl/framework/bfc_allocator.cc:296] Allocator (GPU_0_bfc) ran out of memory trying to allocate 2.27GiB with freed_by_count=0. The caller indicates that this is not a failure, but this may mean that there could be performance gains if more memory were available.\n",
      "2024-03-05 19:42:10.709492: W external/local_tsl/tsl/framework/bfc_allocator.cc:296] Allocator (GPU_0_bfc) ran out of memory trying to allocate 2.27GiB with freed_by_count=0. The caller indicates that this is not a failure, but this may mean that there could be performance gains if more memory were available.\n",
      "2024-03-05 19:42:10.709510: W external/local_tsl/tsl/framework/bfc_allocator.cc:296] Allocator (GPU_0_bfc) ran out of memory trying to allocate 2.27GiB with freed_by_count=0. The caller indicates that this is not a failure, but this may mean that there could be performance gains if more memory were available.\n"
     ]
    },
    {
     "name": "stdout",
     "output_type": "stream",
     "text": [
      "\u001b[1m337/337\u001b[0m \u001b[32m━━━━━━━━━━━━━━━━━━━━\u001b[0m\u001b[37m\u001b[0m \u001b[1m0s\u001b[0m 63ms/step - accuracy: 0.7749 - loss: 1.1082"
     ]
    },
    {
     "name": "stderr",
     "output_type": "stream",
     "text": [
      "W0000 00:00:1709664132.163991   20894 graph_launch.cc:671] Fallback to op-by-op mode because memset node breaks graph update\n",
      "W0000 00:00:1709664133.314368   20887 graph_launch.cc:671] Fallback to op-by-op mode because memset node breaks graph update\n"
     ]
    },
    {
     "name": "stdout",
     "output_type": "stream",
     "text": [
      "\u001b[1m337/337\u001b[0m \u001b[32m━━━━━━━━━━━━━━━━━━━━\u001b[0m\u001b[37m\u001b[0m \u001b[1m38s\u001b[0m 86ms/step - accuracy: 0.7751 - loss: 1.1067 - val_accuracy: 0.9625 - val_loss: 0.1803\n",
      "Epoch 2/30\n",
      "\u001b[1m337/337\u001b[0m \u001b[32m━━━━━━━━━━━━━━━━━━━━\u001b[0m\u001b[37m\u001b[0m \u001b[1m18s\u001b[0m 52ms/step - accuracy: 0.9547 - loss: 0.2096 - val_accuracy: 0.9681 - val_loss: 0.1679\n",
      "Epoch 3/30\n",
      "\u001b[1m337/337\u001b[0m \u001b[32m━━━━━━━━━━━━━━━━━━━━\u001b[0m\u001b[37m\u001b[0m \u001b[1m17s\u001b[0m 50ms/step - accuracy: 0.9692 - loss: 0.1200 - val_accuracy: 0.9636 - val_loss: 0.1882\n",
      "Epoch 4/30\n",
      "\u001b[1m337/337\u001b[0m \u001b[32m━━━━━━━━━━━━━━━━━━━━\u001b[0m\u001b[37m\u001b[0m \u001b[1m17s\u001b[0m 51ms/step - accuracy: 0.9770 - loss: 0.0995 - val_accuracy: 0.9692 - val_loss: 0.1770\n",
      "Epoch 5/30\n",
      "\u001b[1m337/337\u001b[0m \u001b[32m━━━━━━━━━━━━━━━━━━━━\u001b[0m\u001b[37m\u001b[0m \u001b[1m18s\u001b[0m 52ms/step - accuracy: 0.9846 - loss: 0.0587 - val_accuracy: 0.9726 - val_loss: 0.1646\n",
      "Epoch 6/30\n",
      "\u001b[1m337/337\u001b[0m \u001b[32m━━━━━━━━━━━━━━━━━━━━\u001b[0m\u001b[37m\u001b[0m \u001b[1m17s\u001b[0m 51ms/step - accuracy: 0.9869 - loss: 0.0460 - val_accuracy: 0.9718 - val_loss: 0.1715\n",
      "Epoch 7/30\n",
      "\u001b[1m337/337\u001b[0m \u001b[32m━━━━━━━━━━━━━━━━━━━━\u001b[0m\u001b[37m\u001b[0m \u001b[1m18s\u001b[0m 52ms/step - accuracy: 0.9939 - loss: 0.0213 - val_accuracy: 0.9737 - val_loss: 0.1709\n",
      "Epoch 8/30\n",
      "\u001b[1m337/337\u001b[0m \u001b[32m━━━━━━━━━━━━━━━━━━━━\u001b[0m\u001b[37m\u001b[0m \u001b[1m17s\u001b[0m 51ms/step - accuracy: 0.9939 - loss: 0.0194 - val_accuracy: 0.9744 - val_loss: 0.1766\n",
      "Epoch 9/30\n",
      "\u001b[1m337/337\u001b[0m \u001b[32m━━━━━━━━━━━━━━━━━━━━\u001b[0m\u001b[37m\u001b[0m \u001b[1m17s\u001b[0m 51ms/step - accuracy: 0.9954 - loss: 0.0132 - val_accuracy: 0.9740 - val_loss: 0.2016\n",
      "Epoch 10/30\n",
      "\u001b[1m337/337\u001b[0m \u001b[32m━━━━━━━━━━━━━━━━━━━━\u001b[0m\u001b[37m\u001b[0m \u001b[1m18s\u001b[0m 52ms/step - accuracy: 0.9957 - loss: 0.0097 - val_accuracy: 0.9729 - val_loss: 0.1892\n",
      "Epoch 11/30\n",
      "\u001b[1m337/337\u001b[0m \u001b[32m━━━━━━━━━━━━━━━━━━━━\u001b[0m\u001b[37m\u001b[0m \u001b[1m17s\u001b[0m 51ms/step - accuracy: 0.9973 - loss: 0.0075 - val_accuracy: 0.9718 - val_loss: 0.1913\n",
      "Epoch 12/30\n",
      "\u001b[1m337/337\u001b[0m \u001b[32m━━━━━━━━━━━━━━━━━━━━\u001b[0m\u001b[37m\u001b[0m \u001b[1m17s\u001b[0m 52ms/step - accuracy: 0.9960 - loss: 0.0096 - val_accuracy: 0.9729 - val_loss: 0.1914\n",
      "Epoch 13/30\n",
      "\u001b[1m337/337\u001b[0m \u001b[32m━━━━━━━━━━━━━━━━━━━━\u001b[0m\u001b[37m\u001b[0m \u001b[1m18s\u001b[0m 52ms/step - accuracy: 0.9965 - loss: 0.0095 - val_accuracy: 0.9740 - val_loss: 0.2223\n",
      "Epoch 14/30\n",
      "\u001b[1m337/337\u001b[0m \u001b[32m━━━━━━━━━━━━━━━━━━━━\u001b[0m\u001b[37m\u001b[0m \u001b[1m18s\u001b[0m 52ms/step - accuracy: 0.9980 - loss: 0.0042 - val_accuracy: 0.9733 - val_loss: 0.1952\n",
      "Epoch 15/30\n",
      "\u001b[1m337/337\u001b[0m \u001b[32m━━━━━━━━━━━━━━━━━━━━\u001b[0m\u001b[37m\u001b[0m \u001b[1m18s\u001b[0m 52ms/step - accuracy: 0.9983 - loss: 0.0050 - val_accuracy: 0.9718 - val_loss: 0.2094\n",
      "Epoch 16/30\n",
      "\u001b[1m337/337\u001b[0m \u001b[32m━━━━━━━━━━━━━━━━━━━━\u001b[0m\u001b[37m\u001b[0m \u001b[1m18s\u001b[0m 52ms/step - accuracy: 0.9993 - loss: 0.0022 - val_accuracy: 0.9729 - val_loss: 0.2000\n",
      "Epoch 17/30\n",
      "\u001b[1m337/337\u001b[0m \u001b[32m━━━━━━━━━━━━━━━━━━━━\u001b[0m\u001b[37m\u001b[0m \u001b[1m18s\u001b[0m 52ms/step - accuracy: 0.9993 - loss: 0.0025 - val_accuracy: 0.9718 - val_loss: 0.2097\n",
      "Epoch 18/30\n",
      "\u001b[1m337/337\u001b[0m \u001b[32m━━━━━━━━━━━━━━━━━━━━\u001b[0m\u001b[37m\u001b[0m \u001b[1m18s\u001b[0m 52ms/step - accuracy: 0.9990 - loss: 0.0025 - val_accuracy: 0.9718 - val_loss: 0.2078\n",
      "Epoch 19/30\n",
      "\u001b[1m337/337\u001b[0m \u001b[32m━━━━━━━━━━━━━━━━━━━━\u001b[0m\u001b[37m\u001b[0m \u001b[1m18s\u001b[0m 52ms/step - accuracy: 0.9992 - loss: 0.0022 - val_accuracy: 0.9714 - val_loss: 0.2234\n",
      "Epoch 20/30\n",
      "\u001b[1m337/337\u001b[0m \u001b[32m━━━━━━━━━━━━━━━━━━━━\u001b[0m\u001b[37m\u001b[0m \u001b[1m18s\u001b[0m 52ms/step - accuracy: 0.9993 - loss: 0.0022 - val_accuracy: 0.9733 - val_loss: 0.2363\n",
      "Epoch 21/30\n",
      "\u001b[1m337/337\u001b[0m \u001b[32m━━━━━━━━━━━━━━━━━━━━\u001b[0m\u001b[37m\u001b[0m \u001b[1m18s\u001b[0m 52ms/step - accuracy: 0.9987 - loss: 0.0028 - val_accuracy: 0.9718 - val_loss: 0.2075\n",
      "Epoch 22/30\n",
      "\u001b[1m337/337\u001b[0m \u001b[32m━━━━━━━━━━━━━━━━━━━━\u001b[0m\u001b[37m\u001b[0m \u001b[1m18s\u001b[0m 52ms/step - accuracy: 0.9989 - loss: 0.0024 - val_accuracy: 0.9722 - val_loss: 0.2354\n",
      "Epoch 23/30\n",
      "\u001b[1m337/337\u001b[0m \u001b[32m━━━━━━━━━━━━━━━━━━━━\u001b[0m\u001b[37m\u001b[0m \u001b[1m18s\u001b[0m 52ms/step - accuracy: 0.9995 - loss: 0.0017 - val_accuracy: 0.9711 - val_loss: 0.2174\n",
      "Epoch 24/30\n",
      "\u001b[1m337/337\u001b[0m \u001b[32m━━━━━━━━━━━━━━━━━━━━\u001b[0m\u001b[37m\u001b[0m \u001b[1m18s\u001b[0m 52ms/step - accuracy: 0.9992 - loss: 0.0039 - val_accuracy: 0.9718 - val_loss: 0.2179\n",
      "Epoch 25/30\n",
      "\u001b[1m337/337\u001b[0m \u001b[32m━━━━━━━━━━━━━━━━━━━━\u001b[0m\u001b[37m\u001b[0m \u001b[1m18s\u001b[0m 52ms/step - accuracy: 0.9995 - loss: 9.2189e-04 - val_accuracy: 0.9726 - val_loss: 0.2141\n",
      "Epoch 26/30\n",
      "\u001b[1m337/337\u001b[0m \u001b[32m━━━━━━━━━━━━━━━━━━━━\u001b[0m\u001b[37m\u001b[0m \u001b[1m18s\u001b[0m 52ms/step - accuracy: 0.9999 - loss: 7.5770e-04 - val_accuracy: 0.9722 - val_loss: 0.2182\n",
      "Epoch 27/30\n",
      "\u001b[1m337/337\u001b[0m \u001b[32m━━━━━━━━━━━━━━━━━━━━\u001b[0m\u001b[37m\u001b[0m \u001b[1m18s\u001b[0m 52ms/step - accuracy: 0.9996 - loss: 0.0015 - val_accuracy: 0.9722 - val_loss: 0.2216\n",
      "Epoch 28/30\n",
      "\u001b[1m337/337\u001b[0m \u001b[32m━━━━━━━━━━━━━━━━━━━━\u001b[0m\u001b[37m\u001b[0m \u001b[1m18s\u001b[0m 52ms/step - accuracy: 0.9997 - loss: 9.8133e-04 - val_accuracy: 0.9718 - val_loss: 0.2330\n",
      "Epoch 29/30\n",
      "\u001b[1m337/337\u001b[0m \u001b[32m━━━━━━━━━━━━━━━━━━━━\u001b[0m\u001b[37m\u001b[0m \u001b[1m18s\u001b[0m 53ms/step - accuracy: 0.9995 - loss: 0.0016 - val_accuracy: 0.9726 - val_loss: 0.2556\n",
      "Epoch 30/30\n",
      "\u001b[1m337/337\u001b[0m \u001b[32m━━━━━━━━━━━━━━━━━━━━\u001b[0m\u001b[37m\u001b[0m \u001b[1m18s\u001b[0m 53ms/step - accuracy: 0.9997 - loss: 0.0012 - val_accuracy: 0.9733 - val_loss: 0.2270\n"
     ]
    }
   ],
   "source": [
    "# Fine-tuning the model\n",
    "model.compile(loss=\"sparse_categorical_crossentropy\",\n",
    "              optimizer=keras.optimizers.RMSprop(learning_rate=1e-5),\n",
    "              metrics=[\"accuracy\"])\n",
    "  \n",
    "callbacks = [\n",
    "    keras.callbacks.ModelCheckpoint(\n",
    "        filepath=\"models/fine_tuning_MobileNet.keras\",\n",
    "        save_best_only=True,\n",
    "        monitor=\"val_loss\")\n",
    "]\n",
    "history = model.fit(\n",
    "    train_dataset,\n",
    "    epochs=30, \n",
    "    validation_data=val_dataset,\n",
    "    callbacks=callbacks)"
   ]
  },
  {
   "cell_type": "code",
   "execution_count": 7,
   "id": "6a77e119-2638-4996-8f04-6a911aa7ddaf",
   "metadata": {},
   "outputs": [
    {
     "name": "stdout",
     "output_type": "stream",
     "text": [
      "\u001b[1m47/47\u001b[0m \u001b[32m━━━━━━━━━━━━━━━━━━━━\u001b[0m\u001b[37m\u001b[0m \u001b[1m8s\u001b[0m 170ms/step - accuracy: 0.9812 - loss: 0.0746\n",
      "Accuracy:  0.9786239266395569\n"
     ]
    },
    {
     "name": "stderr",
     "output_type": "stream",
     "text": [
      "W0000 00:00:1709664658.053779   20887 graph_launch.cc:671] Fallback to op-by-op mode because memset node breaks graph update\n"
     ]
    }
   ],
   "source": [
    "test_loss, test_acc = model.evaluate(test_dataset)\n",
    "print('Accuracy: ', test_acc)"
   ]
  },
  {
   "cell_type": "markdown",
   "id": "827cfdef-27e9-4042-ad66-f02318916f70",
   "metadata": {},
   "source": [
    "## Plotting results\n",
    "We plot the evolution of the accuracy (in training and validation) and the evolution of the loss (in training and validation)"
   ]
  },
  {
   "cell_type": "code",
   "execution_count": 8,
   "id": "1a5173d6-6bef-47d2-93ab-9241d66a7a4d",
   "metadata": {},
   "outputs": [],
   "source": [
    "#Function to plot the results\n",
    "def plot(history):\n",
    "    accuracy = history.history[\"accuracy\"]\n",
    "    val_accuracy = history.history[\"val_accuracy\"]\n",
    "    loss = history.history[\"loss\"]\n",
    "    val_loss = history.history[\"val_loss\"]\n",
    "\n",
    "    epochs = range(1, len(accuracy) + 1)\n",
    "\n",
    "    plt.plot(epochs, accuracy, \"b-o\", label=\"Training accuracy\")\n",
    "    plt.plot(epochs, val_accuracy, \"r-o\", label=\"Validation accuracy\")\n",
    "    plt.title(\"Training and validation accuracy\")\n",
    "    plt.legend()\n",
    "    plt.figure()\n",
    "\n",
    "    plt.plot(epochs, loss, \"b-o\", label=\"Training loss\")\n",
    "    plt.plot(epochs, val_loss, \"r-o\", label=\"Validation loss\")\n",
    "    plt.title(\"Training and validation loss\")\n",
    "    plt.legend()\n",
    "    plt.show()"
   ]
  },
  {
   "cell_type": "code",
   "execution_count": 9,
   "id": "12c7b101-18eb-4575-be1b-2c895cba436c",
   "metadata": {},
   "outputs": [
    {
     "data": {
      "image/png": "[encoded data removed]",
      "text/plain": [
       "<Figure size 640x480 with 1 Axes>"
      ]
     },
     "metadata": {},
     "output_type": "display_data"
    },
    {
     "data": {
      "image/png": "[encoded data removed]",
      "text/plain": [
       "<Figure size 640x480 with 1 Axes>"
      ]
     },
     "metadata": {},
     "output_type": "display_data"
    }
   ],
   "source": [
    "plot(history)"
   ]
  },
  {
   "cell_type": "markdown",
   "id": "3c7d8283-07ab-4ff0-bcc2-14e5edad7db9",
   "metadata": {},
   "source": [
    "After seeing the results of the network, we see that a good result is obtained, exceeding 90% accuracy. We also see that this percentage is reached after a few training periods and then during all the remaining periods the accuracy remains quite similar."
   ]
  },
  {
   "cell_type": "markdown",
   "id": "87820c8d-2d84-4e9e-bf25-977c15d25574",
   "metadata": {},
   "source": [
    "### Saving the results in a .csv"
   ]
  },
  {
   "cell_type": "code",
   "execution_count": 10,
   "id": "cfd88a1b-cd6c-434c-951f-da50614ca0b1",
   "metadata": {},
   "outputs": [
    {
     "name": "stdout",
     "output_type": "stream",
     "text": [
      "\u001b[1m85/85\u001b[0m \u001b[32m━━━━━━━━━━━━━━━━━━━━\u001b[0m\u001b[37m\u001b[0m \u001b[1m3s\u001b[0m 37ms/step - accuracy: 0.9793 - loss: 0.2030\n"
     ]
    }
   ],
   "source": [
    "val_loss, val_acc = model.evaluate(val_dataset)"
   ]
  },
  {
   "cell_type": "code",
   "execution_count": 11,
   "id": "b1b2605f-7d86-4e15-ad42-db2b3d01c12d",
   "metadata": {},
   "outputs": [],
   "source": [
    "import os\n",
    "\n",
    "def save_model_results(file_path, model_name, accuracy):\n",
    "    \"\"\"\n",
    "    This function saves the model's accuracy to a CSV file. It checks if the file exists\n",
    "    to add a header if necessary and then opens the file in append mode to add\n",
    "    the model name and accuracy.\n",
    "    \"\"\"\n",
    "    # Check if the file exists to decide on adding the header\n",
    "    header_needed = not os.path.isfile(file_path)\n",
    "    # Open the file in append mode, which creates the file if it doesn't exist\n",
    "    with open(file_path, \"a\") as file:\n",
    "        # Add a header if the file was just created\n",
    "        if header_needed:\n",
    "            file.write(\"model_name,accuracy\\n\")\n",
    "        # Append the model name and accuracy to the file\n",
    "        file.write(f\"{model_name},{accuracy:.3f}\\n\")\n",
    "    "
   ]
  },
  {
   "cell_type": "code",
   "execution_count": 12,
   "id": "0edc58bb-8020-45cb-a3f1-a939e102c0d4",
   "metadata": {},
   "outputs": [],
   "source": [
    "save_model_results('val_results.csv', 'preTrained_FineTuning_MobileNet', val_acc)\n",
    "save_model_results('test_results.csv', 'preTrained_FineTuning_MobileNet', test_acc)"
   ]
  },
  {
   "cell_type": "code",
   "execution_count": null,
   "id": "a248e1ce-d1de-4918-9218-80d7886a6f87",
   "metadata": {},
   "outputs": [],
   "source": []
  }
 ],
 "metadata": {
  "kernelspec": {
   "display_name": "Python 3 (ipykernel)",
   "language": "python",
   "name": "python3"
  },
  "language_info": {
   "codemirror_mode": {
    "name": "ipython",
    "version": 3
   },
   "file_extension": ".py",
   "mimetype": "text/x-python",
   "name": "python",
   "nbconvert_exporter": "python",
   "pygments_lexer": "ipython3",
   "version": "3.10.12"
  }
 },
 "nbformat": 4,
 "nbformat_minor": 5
}
