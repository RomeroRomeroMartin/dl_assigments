{
 "cells": [
  {
   "cell_type": "markdown",
   "id": "f7cec71b-084c-43ac-8b40-dd111d7176cf",
   "metadata": {},
   "source": [
    "## Training with Pre-trained models\n",
    "Authors:\n",
    "- Mario Izquierdo\n",
    "- Martín Romero"
   ]
  },
  {
   "cell_type": "markdown",
   "id": "234a4bb6-8d37-40f6-9a69-8ae68ab84641",
   "metadata": {},
   "source": [
    "In this notebook we are going to experiment with pre-trained models to solve the proposed image classification problem. Specifically in this notebook we are going to experiment with the VGG16 pretrained network. The way the model will be trained will be using fine-tuning, that consists of unfreezing a few of the top layers of a frozen model base used for feature extraction."
   ]
  },
  {
   "cell_type": "code",
   "execution_count": 1,
   "id": "a8452526-528c-4d4c-b352-7301d0c42493",
   "metadata": {},
   "outputs": [],
   "source": [
    "import keras\n",
    "from keras import layers\n",
    "from tensorflow.keras.utils import image_dataset_from_directory\n",
    "import numpy as np\n",
    "import matplotlib.pyplot as plt\n",
    "import csv\n",
    "import tensorflow as tf\n",
    "import matplotlib.pyplot as plt"
   ]
  },
  {
   "cell_type": "code",
   "execution_count": 2,
   "id": "f21969e1-8537-4fb4-9c13-d0a662e208d0",
   "metadata": {},
   "outputs": [],
   "source": [
    "#tf.config.set_visible_devices([], 'GPU')"
   ]
  },
  {
   "cell_type": "markdown",
   "id": "de3064f1-e318-4250-b079-a6e7096e171b",
   "metadata": {},
   "source": [
    "### Load dataset"
   ]
  },
  {
   "cell_type": "markdown",
   "id": "e59937d6-7e52-43ef-9f64-35cba1974d81",
   "metadata": {},
   "source": [
    "We load the images from our dataset to create the train, validation and test sets. In this case we have used an image size of (180,180) due to the limited computational capacity of our computer."
   ]
  },
  {
   "cell_type": "code",
   "execution_count": 3,
   "id": "9583887b-d039-4ae4-a7ca-f0d15fecbbce",
   "metadata": {},
   "outputs": [
    {
     "name": "stdout",
     "output_type": "stream",
     "text": [
      "Found 10778 files belonging to 5 classes.\n",
      "Found 1497 files belonging to 5 classes.\n",
      "Found 2696 files belonging to 5 classes.\n"
     ]
    }
   ],
   "source": [
    "img_size = 180\n",
    "image_size = (img_size, img_size)\n",
    "img_tensor_shape = (img_size, img_size, 3)\n",
    "batch_size = 32\n",
    "train_dataset = image_dataset_from_directory(\n",
    "    '../data/new_data/train',\n",
    "    image_size = image_size,\n",
    "    batch_size = batch_size)\n",
    "test_dataset = image_dataset_from_directory(\n",
    "    '../data/new_data/test',\n",
    "    image_size = image_size,\n",
    "    batch_size=batch_size)\n",
    "val_dataset = image_dataset_from_directory(\n",
    "    '../data/new_data/validation',\n",
    "    image_size = image_size,\n",
    "    batch_size=batch_size)"
   ]
  },
  {
   "cell_type": "markdown",
   "id": "e68a1e96-e3e7-4f8b-86c4-2e29d50ab63f",
   "metadata": {},
   "source": [
    "## Using VGG16 model"
   ]
  },
  {
   "cell_type": "code",
   "execution_count": 4,
   "id": "03420da8-6122-4f22-8714-d0f8934ef9a6",
   "metadata": {},
   "outputs": [],
   "source": [
    "conv_base = keras.applications.vgg16.VGG16(\n",
    "    weights=\"imagenet\",\n",
    "    include_top=False,\n",
    "    input_shape=(180, 180, 3))"
   ]
  },
  {
   "cell_type": "markdown",
   "id": "81523e5f-4fe4-42a2-83e9-ba8134972f9f",
   "metadata": {},
   "source": [
    "### Unfreezing a few top layers"
   ]
  },
  {
   "cell_type": "code",
   "execution_count": 5,
   "id": "7f10541e-4c8d-411d-8881-aad901928249",
   "metadata": {},
   "outputs": [],
   "source": [
    "conv_base.trainable = True\n",
    "for layer in conv_base.layers[:-4]:\n",
    "    layer.trainable = False"
   ]
  },
  {
   "cell_type": "markdown",
   "id": "395ed5b6-cead-4f83-84ff-d7787f3df55e",
   "metadata": {},
   "source": [
    "### Creating the model\n",
    "We added to the pretrained model, a final layer with Dropout, to adapt the network to our problem."
   ]
  },
  {
   "cell_type": "code",
   "execution_count": 6,
   "id": "3b90f6c6-babc-4a5f-ba39-a7d6dd849985",
   "metadata": {},
   "outputs": [],
   "source": [
    "inputs = keras.Input(shape=(180, 180, 3))\n",
    "x = keras.applications.vgg16.preprocess_input(inputs) \n",
    "x = conv_base(x)\n",
    "x = layers.Flatten()(x)\n",
    "x = layers.Dense(256)(x)\n",
    "x = layers.Dropout(0.5)(x)\n",
    "outputs = layers.Dense(5, activation=\"softmax\")(x)\n",
    "model = keras.Model(inputs, outputs)"
   ]
  },
  {
   "cell_type": "markdown",
   "id": "85d5b421-569c-4c29-ab56-bd21e9fc334e",
   "metadata": {},
   "source": [
    "#### Fitting the model"
   ]
  },
  {
   "cell_type": "code",
   "execution_count": 7,
   "id": "e412c938-8b10-4c48-aa91-7ef947d0d856",
   "metadata": {},
   "outputs": [
    {
     "name": "stdout",
     "output_type": "stream",
     "text": [
      "Epoch 1/50\n",
      "\u001b[1m337/337\u001b[0m \u001b[32m━━━━━━━━━━━━━━━━━━━━\u001b[0m\u001b[37m\u001b[0m \u001b[1m20s\u001b[0m 47ms/step - accuracy: 0.6697 - loss: 6.6091 - val_accuracy: 0.9180 - val_loss: 0.3418\n",
      "Epoch 2/50\n",
      "\u001b[1m337/337\u001b[0m \u001b[32m━━━━━━━━━━━━━━━━━━━━\u001b[0m\u001b[37m\u001b[0m \u001b[1m12s\u001b[0m 35ms/step - accuracy: 0.8954 - loss: 0.5291 - val_accuracy: 0.9444 - val_loss: 0.2386\n",
      "Epoch 3/50\n",
      "\u001b[1m337/337\u001b[0m \u001b[32m━━━━━━━━━━━━━━━━━━━━\u001b[0m\u001b[37m\u001b[0m \u001b[1m12s\u001b[0m 35ms/step - accuracy: 0.9329 - loss: 0.2807 - val_accuracy: 0.9547 - val_loss: 0.1908\n",
      "Epoch 4/50\n",
      "\u001b[1m337/337\u001b[0m \u001b[32m━━━━━━━━━━━━━━━━━━━━\u001b[0m\u001b[37m\u001b[0m \u001b[1m12s\u001b[0m 35ms/step - accuracy: 0.9579 - loss: 0.1608 - val_accuracy: 0.9611 - val_loss: 0.1734\n",
      "Epoch 5/50\n",
      "\u001b[1m337/337\u001b[0m \u001b[32m━━━━━━━━━━━━━━━━━━━━\u001b[0m\u001b[37m\u001b[0m \u001b[1m12s\u001b[0m 35ms/step - accuracy: 0.9780 - loss: 0.0800 - val_accuracy: 0.9655 - val_loss: 0.1699\n",
      "Epoch 6/50\n",
      "\u001b[1m337/337\u001b[0m \u001b[32m━━━━━━━━━━━━━━━━━━━━\u001b[0m\u001b[37m\u001b[0m \u001b[1m12s\u001b[0m 35ms/step - accuracy: 0.9822 - loss: 0.0629 - val_accuracy: 0.9633 - val_loss: 0.1620\n",
      "Epoch 7/50\n",
      "\u001b[1m337/337\u001b[0m \u001b[32m━━━━━━━━━━━━━━━━━━━━\u001b[0m\u001b[37m\u001b[0m \u001b[1m12s\u001b[0m 35ms/step - accuracy: 0.9900 - loss: 0.0326 - val_accuracy: 0.9677 - val_loss: 0.1841\n",
      "Epoch 8/50\n",
      "\u001b[1m337/337\u001b[0m \u001b[32m━━━━━━━━━━━━━━━━━━━━\u001b[0m\u001b[37m\u001b[0m \u001b[1m12s\u001b[0m 35ms/step - accuracy: 0.9920 - loss: 0.0242 - val_accuracy: 0.9688 - val_loss: 0.1683\n",
      "Epoch 9/50\n",
      "\u001b[1m337/337\u001b[0m \u001b[32m━━━━━━━━━━━━━━━━━━━━\u001b[0m\u001b[37m\u001b[0m \u001b[1m12s\u001b[0m 34ms/step - accuracy: 0.9965 - loss: 0.0185 - val_accuracy: 0.9700 - val_loss: 0.1966\n",
      "Epoch 10/50\n",
      "\u001b[1m337/337\u001b[0m \u001b[32m━━━━━━━━━━━━━━━━━━━━\u001b[0m\u001b[37m\u001b[0m \u001b[1m12s\u001b[0m 35ms/step - accuracy: 0.9950 - loss: 0.0134 - val_accuracy: 0.9640 - val_loss: 0.1965\n",
      "Epoch 11/50\n",
      "\u001b[1m337/337\u001b[0m \u001b[32m━━━━━━━━━━━━━━━━━━━━\u001b[0m\u001b[37m\u001b[0m \u001b[1m12s\u001b[0m 35ms/step - accuracy: 0.9962 - loss: 0.0219 - val_accuracy: 0.9711 - val_loss: 0.1711\n",
      "Epoch 12/50\n",
      "\u001b[1m337/337\u001b[0m \u001b[32m━━━━━━━━━━━━━━━━━━━━\u001b[0m\u001b[37m\u001b[0m \u001b[1m12s\u001b[0m 35ms/step - accuracy: 0.9964 - loss: 0.0110 - val_accuracy: 0.9711 - val_loss: 0.2322\n",
      "Epoch 13/50\n",
      "\u001b[1m337/337\u001b[0m \u001b[32m━━━━━━━━━━━━━━━━━━━━\u001b[0m\u001b[37m\u001b[0m \u001b[1m12s\u001b[0m 35ms/step - accuracy: 0.9984 - loss: 0.0082 - val_accuracy: 0.9737 - val_loss: 0.1757\n",
      "Epoch 14/50\n",
      "\u001b[1m337/337\u001b[0m \u001b[32m━━━━━━━━━━━━━━━━━━━━\u001b[0m\u001b[37m\u001b[0m \u001b[1m12s\u001b[0m 35ms/step - accuracy: 0.9982 - loss: 0.0048 - val_accuracy: 0.9714 - val_loss: 0.2307\n",
      "Epoch 15/50\n",
      "\u001b[1m337/337\u001b[0m \u001b[32m━━━━━━━━━━━━━━━━━━━━\u001b[0m\u001b[37m\u001b[0m \u001b[1m12s\u001b[0m 35ms/step - accuracy: 0.9985 - loss: 0.0049 - val_accuracy: 0.9729 - val_loss: 0.2054\n",
      "Epoch 16/50\n",
      "\u001b[1m337/337\u001b[0m \u001b[32m━━━━━━━━━━━━━━━━━━━━\u001b[0m\u001b[37m\u001b[0m \u001b[1m12s\u001b[0m 34ms/step - accuracy: 0.9987 - loss: 0.0047 - val_accuracy: 0.9740 - val_loss: 0.1838\n"
     ]
    }
   ],
   "source": [
    "### Fine-tuning the model\n",
    "model.compile(loss=\"sparse_categorical_crossentropy\",\n",
    "              optimizer=keras.optimizers.RMSprop(learning_rate=1e-5),\n",
    "              metrics=[\"accuracy\"])\n",
    "  \n",
    "callbacks = [\n",
    "    # keras.callbacks.ModelCheckpoint(\n",
    "    #     filepath=\"models/fine_tuning_VGG16.keras\",\n",
    "    #     save_best_only=True,\n",
    "    #     monitor=\"val_loss\"),   Serialization error\n",
    "    \n",
    "    # EarlyStopping to stop training when `val_loss` is not improving\n",
    "    keras.callbacks.EarlyStopping(\n",
    "        monitor=\"val_loss\",\n",
    "        patience=10,\n",
    "        restore_best_weights=True\n",
    "    )\n",
    "]\n",
    "history = model.fit(\n",
    "    train_dataset,\n",
    "    epochs=50, \n",
    "    validation_data=val_dataset,\n",
    "    callbacks=callbacks)"
   ]
  },
  {
   "cell_type": "code",
   "execution_count": 8,
   "id": "6a77e119-2638-4996-8f04-6a911aa7ddaf",
   "metadata": {},
   "outputs": [
    {
     "name": "stdout",
     "output_type": "stream",
     "text": [
      "\u001b[1m47/47\u001b[0m \u001b[32m━━━━━━━━━━━━━━━━━━━━\u001b[0m\u001b[37m\u001b[0m \u001b[1m3s\u001b[0m 59ms/step - accuracy: 0.9688 - loss: 0.1254\n",
      "Accuracy:  0.9639278650283813\n"
     ]
    }
   ],
   "source": [
    "test_loss, test_acc = model.evaluate(test_dataset)\n",
    "print('Accuracy: ', test_acc)"
   ]
  },
  {
   "cell_type": "markdown",
   "id": "827cfdef-27e9-4042-ad66-f02318916f70",
   "metadata": {},
   "source": [
    "## Plotting results\n",
    "We plot the evolution of the accuracy (in training and validation) and the evolution of the loss (in training and validation)"
   ]
  },
  {
   "cell_type": "code",
   "execution_count": 9,
   "id": "1a5173d6-6bef-47d2-93ab-9241d66a7a4d",
   "metadata": {},
   "outputs": [],
   "source": [
    "#Function to plot the results\n",
    "def plot(history):\n",
    "    accuracy = history.history[\"accuracy\"]\n",
    "    val_accuracy = history.history[\"val_accuracy\"]\n",
    "    loss = history.history[\"loss\"]\n",
    "    val_loss = history.history[\"val_loss\"]\n",
    "\n",
    "    epochs = range(1, len(accuracy) + 1)\n",
    "\n",
    "    plt.plot(epochs, accuracy, \"b-o\", label=\"Training accuracy\")\n",
    "    plt.plot(epochs, val_accuracy, \"r-o\", label=\"Validation accuracy\")\n",
    "    plt.title(\"Training and validation accuracy\")\n",
    "    plt.legend()\n",
    "    plt.figure()\n",
    "\n",
    "    plt.plot(epochs, loss, \"b-o\", label=\"Training loss\")\n",
    "    plt.plot(epochs, val_loss, \"r-o\", label=\"Validation loss\")\n",
    "    plt.title(\"Training and validation loss\")\n",
    "    plt.legend()\n",
    "    plt.show()"
   ]
  },
  {
   "cell_type": "code",
   "execution_count": 10,
   "id": "12c7b101-18eb-4575-be1b-2c895cba436c",
   "metadata": {},
   "outputs": [
    {
     "data": {
      "image/png": "[encoded data removed]",
      "text/plain": [
       "<Figure size 432x288 with 1 Axes>"
      ]
     },
     "metadata": {
      "needs_background": "light"
     },
     "output_type": "display_data"
    },
    {
     "data": {
      "image/png": "[encoded data removed]",
      "text/plain": [
       "<Figure size 432x288 with 1 Axes>"
      ]
     },
     "metadata": {
      "needs_background": "light"
     },
     "output_type": "display_data"
    }
   ],
   "source": [
    "plot(history)"
   ]
  },
  {
   "cell_type": "markdown",
   "id": "2db12594-e9d2-49f5-a96a-d427d728b2be",
   "metadata": {},
   "source": [
    "After seeing the results of the network, we see that a good result is obtained, exceeding 90% accuracy. We also see that this percentage is reached after a few training periods and then during all the remaining periods the accuracy remains quite similar."
   ]
  },
  {
   "cell_type": "markdown",
   "id": "87820c8d-2d84-4e9e-bf25-977c15d25574",
   "metadata": {},
   "source": [
    "### Saving the results in a .csv"
   ]
  },
  {
   "cell_type": "code",
   "execution_count": 11,
   "id": "cfd88a1b-cd6c-434c-951f-da50614ca0b1",
   "metadata": {},
   "outputs": [
    {
     "name": "stdout",
     "output_type": "stream",
     "text": [
      "\u001b[1m85/85\u001b[0m \u001b[32m━━━━━━━━━━━━━━━━━━━━\u001b[0m\u001b[37m\u001b[0m \u001b[1m2s\u001b[0m 25ms/step - accuracy: 0.9656 - loss: 0.1749\n"
     ]
    }
   ],
   "source": [
    "val_loss, val_acc = model.evaluate(val_dataset)"
   ]
  },
  {
   "cell_type": "code",
   "execution_count": 12,
   "id": "b1b2605f-7d86-4e15-ad42-db2b3d01c12d",
   "metadata": {},
   "outputs": [],
   "source": [
    "import os\n",
    "\n",
    "def save_model_results(file_path, model_name, accuracy):\n",
    "    \"\"\"\n",
    "    This function saves the model's accuracy to a CSV file. It checks if the file exists\n",
    "    to add a header if necessary and then opens the file in append mode to add\n",
    "    the model name and accuracy.\n",
    "    \"\"\"\n",
    "    # Check if the file exists to decide on adding the header\n",
    "    header_needed = not os.path.isfile(file_path)\n",
    "    # Open the file in append mode, which creates the file if it doesn't exist\n",
    "    with open(file_path, \"a\") as file:\n",
    "        # Add a header if the file was just created\n",
    "        if header_needed:\n",
    "            file.write(\"model_name,accuracy\\n\")\n",
    "        # Append the model name and accuracy to the file\n",
    "        file.write(f\"{model_name},{accuracy:.3f}\\n\")\n",
    "    "
   ]
  },
  {
   "cell_type": "code",
   "execution_count": 13,
   "id": "0edc58bb-8020-45cb-a3f1-a939e102c0d4",
   "metadata": {},
   "outputs": [],
   "source": [
    "save_model_results('val_results.csv', 'preTrained_FineTuning_VGG16', val_acc)\n",
    "save_model_results('test_results.csv', 'preTrained_FineTuning_VGG16', test_acc)"
   ]
  },
  {
   "cell_type": "code",
   "execution_count": null,
   "id": "a248e1ce-d1de-4918-9218-80d7886a6f87",
   "metadata": {},
   "outputs": [],
   "source": []
  }
 ],
 "metadata": {
  "kernelspec": {
   "display_name": "Python 3 (ipykernel)",
   "language": "python",
   "name": "python3"
  },
  "language_info": {
   "codemirror_mode": {
    "name": "ipython",
    "version": 3
   },
   "file_extension": ".py",
   "mimetype": "text/x-python",
   "name": "python",
   "nbconvert_exporter": "python",
   "pygments_lexer": "ipython3",
   "version": "3.10.12"
  }
 },
 "nbformat": 4,
 "nbformat_minor": 5
}
